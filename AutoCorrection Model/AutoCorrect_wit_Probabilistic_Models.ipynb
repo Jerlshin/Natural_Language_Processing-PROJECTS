{
 "cells": [
  {
   "cell_type": "markdown",
   "metadata": {},
   "source": [
    "# Autocorrect model\n",
    "\n",
    "* Identify the misspelled words\n",
    "* Find strings n edit distance away \n",
    "* Filter Candidate - take only words in the vocab\n",
    "* Word Probability \n",
    "\n",
    "\n",
    "This method is first created by \"Peter Norvig\", 2007"
   ]
  },
  {
   "cell_type": "code",
   "execution_count": 1,
   "metadata": {},
   "outputs": [],
   "source": [
    "import re\n",
    "from collections import Counter\n",
    "import numpy as np\n",
    "import pandas as pd\n"
   ]
  },
  {
   "cell_type": "code",
   "execution_count": 2,
   "metadata": {},
   "outputs": [],
   "source": [
    "def process_data(file_name):\n",
    "    words = []\n",
    "\n",
    "    with open(file=file_name) as f:\n",
    "        text = f.read()\n",
    "    \n",
    "    text = text.lower()\n",
    "    words = re.findall(r'\\w+', text)\n",
    "    \n",
    "    return words\n"
   ]
  },
  {
   "cell_type": "code",
   "execution_count": 3,
   "metadata": {},
   "outputs": [
    {
     "data": {
      "text/plain": [
       "(53614, 6116)"
      ]
     },
     "execution_count": 3,
     "metadata": {},
     "output_type": "execute_result"
    }
   ],
   "source": [
    "words_l = process_data('shakespeare.txt')\n",
    "vocab = set(words_l)\n",
    "\n",
    "len(words_l), len(vocab)\n"
   ]
  },
  {
   "cell_type": "code",
   "execution_count": 4,
   "metadata": {},
   "outputs": [],
   "source": [
    "def get_count(words_l):\n",
    "    word_count_dict = {}\n",
    "    word_count_dict = Counter(words_l) # dict with unique words and counts \n",
    "    return word_count_dict\n",
    "\n",
    "word_count_dict = get_count(words_l)\n"
   ]
  },
  {
   "cell_type": "code",
   "execution_count": 5,
   "metadata": {},
   "outputs": [],
   "source": [
    "def get_probs(word_count_dict):\n",
    "    m = sum(word_count_dict.values()) # total number of unique words\n",
    "    probs = {}\n",
    "\n",
    "    for key in word_count_dict.keys():\n",
    "        probs[key] = word_count_dict[key] / m\n",
    "\n",
    "    return probs"
   ]
  },
  {
   "cell_type": "code",
   "execution_count": 6,
   "metadata": {},
   "outputs": [
    {
     "name": "stdout",
     "output_type": "stream",
     "text": [
      "0.0029283396127877045\n"
     ]
    }
   ],
   "source": [
    "probs = get_probs(word_count_dict)\n",
    "\n",
    "for i in probs: # iterates through keys in the dict\n",
    "    print(probs[i])\n",
    "    break"
   ]
  },
  {
   "cell_type": "markdown",
   "metadata": {},
   "source": [
    "### Edit Distance\n",
    "    - Using Dynamic Programming \n",
    "\n",
    "We will correct words that are 1 and 2 edit distance away\n",
    "\n",
    "* Delete (1)\n",
    "* Switch \n",
    "* Replace (2)\n",
    "* Insert (1)\n",
    "\n",
    "- *To Compute prob that a certain word is correct given an input*\n",
    "\n",
    "\n",
    "$$ P(A | B) = \\frac{P(B|A)\\times P(A)}{P(B)} \\tag{Bayes Rule}$$\n",
    "\n",
    "$P(A|B)$ - Conditional Probability --- posterior probability of A given B\n",
    "\n",
    "$P(A), P(B)$ --- $prior\\space probability$ and $marginal\\space probability$ "
   ]
  },
  {
   "cell_type": "code",
   "execution_count": 7,
   "metadata": {},
   "outputs": [],
   "source": [
    "def delete_letter(word, verbose=False): # delete one character at a time from the given word \n",
    "    delete_l = []\n",
    "    split_l = []\n",
    "\n",
    "    for c in range(len(word)):\n",
    "        split_l.append((word[:c], word[c:]))\n",
    "    \n",
    "    for a, b in split_l: # del each letter and store\n",
    "        delete_l.append(a + b[1:])\n",
    "\n",
    "    if verbose: print(f\"input word {word}, \\nsplit_l = {split_l}, \\ndelete_l = {delete_l}\")\n",
    "\n",
    "    return delete_l"
   ]
  },
  {
   "cell_type": "code",
   "execution_count": 8,
   "metadata": {},
   "outputs": [],
   "source": [
    "'''a list of all possible strings with one adjacent charater switched'''\n",
    "\n",
    "def switch_letter(word, verbose=False):\n",
    "\n",
    "    switch_l = []\n",
    "    split_l = []\n",
    "    \n",
    "    len_word=len(word)\n",
    "    for c in range(len_word):\n",
    "        split_l.append((word[:c],word[c:]))\n",
    "        \n",
    "    switch_l = [a + b[1] + b[0] + b[2:] for a,b in split_l if len(b) >= 2]\n",
    "    \n",
    "    if verbose: print(f\"Input word = {word} \\nsplit_l = {split_l} \\nswitch_l = {switch_l}\") \n",
    "\n",
    "    return switch_l"
   ]
  },
  {
   "cell_type": "code",
   "execution_count": 9,
   "metadata": {},
   "outputs": [
    {
     "name": "stdout",
     "output_type": "stream",
     "text": [
      "Input word = ta \n",
      "split_l = [('', 'ta'), ('t', 'a')] \n",
      "switch_l = ['at']\n",
      "\n",
      "\n",
      "Input word = eta \n",
      "split_l = [('', 'eta'), ('e', 'ta'), ('et', 'a')] \n",
      "switch_l = ['tea', 'eat']\n"
     ]
    }
   ],
   "source": [
    "switch_word_l = switch_letter(word=\"ta\",\n",
    "                         verbose=True)\n",
    "\n",
    "print('\\n')\n",
    "\n",
    "switch_word_l = switch_letter(word=\"eta\",\n",
    "                         verbose=True)\n",
    "\n"
   ]
  },
  {
   "cell_type": "code",
   "execution_count": 10,
   "metadata": {},
   "outputs": [],
   "source": [
    "'''a list of all possible strings where we replace one letter from the original word'''\n",
    "def replace_letter(word, verbose=False):\n",
    "     \n",
    "    letters = 'abcdefghijklmnopqrstuvwxyz'\n",
    "    replace_l = []\n",
    "    split_l = []\n",
    "\n",
    "    for c in range(len(word)):\n",
    "        split_l.append((word[:c], word[c:]))\n",
    "    \n",
    "    replace_l = [a + l + (b[1:] if len(b) > 1 else '') for a, b in split_l if b for l in letters]\n",
    "\n",
    "    # for a, b in split_l:\n",
    "    #    if b:\n",
    "    #        for l in letters:\n",
    "    #            if len(b) > 1:\n",
    "    #                replace_l.append(a + l + b[1:])\n",
    "    #           else:\n",
    "    #               replace_l.append(a+ l)\n",
    "                    \n",
    "    replace_set = set(replace_l)\n",
    "    replace_set.remove(word)\n",
    "\n",
    "    replace_l = sorted(list(replace_set))\n",
    "\n",
    "    if verbose: print(f\"Input word = {word} \\nsplit_l = {split_l} \\nreplace_l {replace_l}\")   \n",
    "\n",
    "    return replace_l"
   ]
  },
  {
   "cell_type": "code",
   "execution_count": 11,
   "metadata": {},
   "outputs": [
    {
     "name": "stdout",
     "output_type": "stream",
     "text": [
      "Input word = can \n",
      "split_l = [('', 'can'), ('c', 'an'), ('ca', 'n')] \n",
      "replace_l ['aan', 'ban', 'caa', 'cab', 'cac', 'cad', 'cae', 'caf', 'cag', 'cah', 'cai', 'caj', 'cak', 'cal', 'cam', 'cao', 'cap', 'caq', 'car', 'cas', 'cat', 'cau', 'cav', 'caw', 'cax', 'cay', 'caz', 'cbn', 'ccn', 'cdn', 'cen', 'cfn', 'cgn', 'chn', 'cin', 'cjn', 'ckn', 'cln', 'cmn', 'cnn', 'con', 'cpn', 'cqn', 'crn', 'csn', 'ctn', 'cun', 'cvn', 'cwn', 'cxn', 'cyn', 'czn', 'dan', 'ean', 'fan', 'gan', 'han', 'ian', 'jan', 'kan', 'lan', 'man', 'nan', 'oan', 'pan', 'qan', 'ran', 'san', 'tan', 'uan', 'van', 'wan', 'xan', 'yan', 'zan']\n"
     ]
    }
   ],
   "source": [
    "replace_l = replace_letter(word='can', verbose=True)"
   ]
  },
  {
   "cell_type": "code",
   "execution_count": 12,
   "metadata": {},
   "outputs": [
    {
     "data": {
      "text/plain": [
       "(75, 78)"
      ]
     },
     "execution_count": 12,
     "metadata": {},
     "output_type": "execute_result"
    }
   ],
   "source": [
    "len(replace_l), len('can') * 26 "
   ]
  },
  {
   "cell_type": "code",
   "execution_count": 13,
   "metadata": {},
   "outputs": [],
   "source": [
    "'''a set of all possible strings with one new letter inserted at every offset'''\n",
    "def insert_letter(word, verbose=False):\n",
    "    letters = 'abcdefghijklmnopqrstuvwxyz'\n",
    "    insert_l = []\n",
    "    split_l = []\n",
    "\n",
    "    split_l = [(word[:c], word[c:]) for c in range(len(word)+1)]\n",
    "\n",
    "    insert_l = [a + l + b for a, b in split_l for l in letters]\n",
    "\n",
    "    if verbose: print(f\"Input word {word} \\nsplit_l = {split_l} \\ninsert_l = {insert_l}\")\n",
    "    \n",
    "    return list(set(insert_l))"
   ]
  },
  {
   "cell_type": "code",
   "execution_count": 14,
   "metadata": {},
   "outputs": [
    {
     "name": "stdout",
     "output_type": "stream",
     "text": [
      "Input word at \n",
      "split_l = [('', 'at'), ('a', 't'), ('at', '')] \n",
      "insert_l = ['aat', 'bat', 'cat', 'dat', 'eat', 'fat', 'gat', 'hat', 'iat', 'jat', 'kat', 'lat', 'mat', 'nat', 'oat', 'pat', 'qat', 'rat', 'sat', 'tat', 'uat', 'vat', 'wat', 'xat', 'yat', 'zat', 'aat', 'abt', 'act', 'adt', 'aet', 'aft', 'agt', 'aht', 'ait', 'ajt', 'akt', 'alt', 'amt', 'ant', 'aot', 'apt', 'aqt', 'art', 'ast', 'att', 'aut', 'avt', 'awt', 'axt', 'ayt', 'azt', 'ata', 'atb', 'atc', 'atd', 'ate', 'atf', 'atg', 'ath', 'ati', 'atj', 'atk', 'atl', 'atm', 'atn', 'ato', 'atp', 'atq', 'atr', 'ats', 'att', 'atu', 'atv', 'atw', 'atx', 'aty', 'atz']\n"
     ]
    },
    {
     "data": {
      "text/plain": [
       "76"
      ]
     },
     "execution_count": 14,
     "metadata": {},
     "output_type": "execute_result"
    }
   ],
   "source": [
    "insert_l = insert_letter('at', True)\n",
    "\n",
    "len(insert_l)"
   ]
  },
  {
   "cell_type": "markdown",
   "metadata": {},
   "source": [
    "### Edits"
   ]
  },
  {
   "cell_type": "code",
   "execution_count": 15,
   "metadata": {},
   "outputs": [],
   "source": [
    "''' A set of words with one possible edit'''\n",
    "def edit_one_letter(word, allow_switches=True):\n",
    "    edit_one_set = set()\n",
    "\n",
    "    edit_one_set.update(delete_letter(word))\n",
    "\n",
    "    if allow_switches:\n",
    "        edit_one_set.update(switch_letter(word))\n",
    "    \n",
    "    edit_one_set.update(replace_letter(word))\n",
    "    edit_one_set.update(insert_letter(word))\n",
    "\n",
    "    return set(edit_one_set)"
   ]
  },
  {
   "cell_type": "code",
   "execution_count": 16,
   "metadata": {},
   "outputs": [
    {
     "name": "stdout",
     "output_type": "stream",
     "text": [
      "a, aa, aat, ab, abt, ac, act, ad, adt, ae, aet, af, aft, ag, agt, ah, aht, ai, ait, aj, ajt, ak, akt, al, alt, am, amt, an, ant, ao, aot, ap, apt, aq, aqt, ar, art, as, ast, ata, atb, atc, atd, ate, atf, atg, ath, ati, atj, atk, atl, atm, atn, ato, atp, atq, atr, ats, att, atu, atv, atw, atx, aty, atz, au, aut, av, avt, aw, awt, ax, axt, ay, ayt, az, azt, bat, bt, cat, ct, dat, dt, eat, et, fat, ft, gat, gt, hat, ht, iat, it, jat, jt, kat, kt, lat, lt, mat, mt, nat, nt, oat, ot, pat, pt, qat, qt, rat, rt, sat, st, t, ta, tat, tt, uat, ut, vat, vt, wat, wt, xat, xt, yat, yt, zat, zt, "
     ]
    }
   ],
   "source": [
    "tmp_word = \"at\"\n",
    "tmp_edit_one_set = edit_one_letter(tmp_word)\n",
    "\n",
    "tmp_edit_one_l = sorted(list(tmp_edit_one_set))\n",
    "for i in tmp_edit_one_l:\n",
    "    print(i, end=', ')"
   ]
  },
  {
   "cell_type": "code",
   "execution_count": 17,
   "metadata": {},
   "outputs": [
    {
     "data": {
      "text/plain": [
       "129"
      ]
     },
     "execution_count": 17,
     "metadata": {},
     "output_type": "execute_result"
    }
   ],
   "source": [
    "len(tmp_edit_one_l)"
   ]
  },
  {
   "cell_type": "code",
   "execution_count": 18,
   "metadata": {},
   "outputs": [],
   "source": [
    "\n",
    "def edit_two_letters(word, allow_switches = True):\n",
    "    \n",
    "    edit_two_set = set()\n",
    "    \n",
    "    edit_one = edit_one_letter(word, allow_switches=allow_switches)\n",
    "    for w in edit_one: # for all words in the edit one done \n",
    "        if w: # if word exists\n",
    "            edit_two = edit_one_letter(w,allow_switches=allow_switches)\n",
    "            edit_two_set.update(edit_two) # update with edit 2\n",
    "    \n",
    "    return edit_two_set"
   ]
  },
  {
   "cell_type": "code",
   "execution_count": 19,
   "metadata": {},
   "outputs": [],
   "source": [
    "tmp_edit_two_set = edit_two_letters(\"a\")\n",
    "tmp_edit_two_l = sorted(list(tmp_edit_two_set))"
   ]
  },
  {
   "cell_type": "code",
   "execution_count": 20,
   "metadata": {},
   "outputs": [
    {
     "data": {
      "text/plain": [
       "2654"
      ]
     },
     "execution_count": 20,
     "metadata": {},
     "output_type": "execute_result"
    }
   ],
   "source": [
    "len(tmp_edit_two_l)"
   ]
  },
  {
   "cell_type": "markdown",
   "metadata": {},
   "source": [
    "### Suggest Spelling Suggestion"
   ]
  },
  {
   "cell_type": "code",
   "execution_count": 21,
   "metadata": {},
   "outputs": [],
   "source": [
    "\n",
    "def get_corrections(word, probs, vocab, n=2, verbose = False):\n",
    "\n",
    "    suggestions = [] # list to store the suggested corrections\n",
    "    n_best = [] # only give the n best words \n",
    "\n",
    "    if word in vocab: # if word in vocab, then it is correct \n",
    "        suggestions.append(word)\n",
    "    else:\n",
    "        suggestions.extend(edit_one_letter(word).intersection(vocab)) # if only the word in vocab after editing\n",
    "    \n",
    "    n_best = sorted(suggestions, key=lambda x: -probs[x])[:n]\n",
    "    \n",
    "    n_best = [(s, probs[s]) for s in n_best]\n",
    "\n",
    "    \n",
    "    # if verbose: print(\"entered word = \", word, \"\\nsuggestions = \", suggestions)\n",
    "\n",
    "    if verbose:\n",
    "        print(\"Entered word = \", word, \"\\t [ N = \", n, ' ]', \"\\nSuggestions = \", suggestions)\n",
    "    \n",
    "    return n_best\n",
    "\n",
    "\n",
    "def get_corrections_2edit(word, probs, vocab, n=2, verbose = False):\n",
    "\n",
    "    suggestions = [] \n",
    "    n_best = []\n",
    "\n",
    "    if word in vocab: # \n",
    "        suggestions.append(word)\n",
    "    else:\n",
    "        suggestions.extend(edit_two_letters(word).intersection(vocab)) \n",
    "    \n",
    "    n_best = sorted(suggestions, key=lambda x: -probs[x])[:n]\n",
    "    \n",
    "    n_best = [(s, probs[s]) for s in n_best]\n",
    "\n",
    "    \n",
    "    if verbose:\n",
    "        print(\"Entered word = \", word, \"\\t [ N = \", n, ' ]', \"\\nSuggestions = \", suggestions)\n",
    "    \n",
    "    return n_best"
   ]
  },
  {
   "cell_type": "code",
   "execution_count": 22,
   "metadata": {},
   "outputs": [
    {
     "name": "stdout",
     "output_type": "stream",
     "text": [
      "\n",
      "\n",
      "===== ONE EDIT DISTANCE =====\n",
      "Entered word =  lea \t [ N =  2  ] \n",
      "Suggestions =  ['led', 'lean', 'leap', 'lead', 'yea', 'let', 'sea', 'leg', 'le', 'plea']\n",
      "word 0: let\n",
      "word 1: sea\n",
      "\n",
      "\n",
      "Entered word =  lear \t [ N =  2  ] \n",
      "Suggestions =  ['sear', 'year', 'clear', 'near', 'lean', 'pear', 'wear', 'hear', 'bear', 'leap', 'lead', 'rear', 'liar', 'ear', 'learn', 'dear', 'tear', 'fear']\n",
      "word 0: hear\n",
      "word 1: dear\n",
      "\n",
      " ===== TWO EDIT DISTANCE =====\n",
      "Entered word =  lear \t [ N =  4  ] \n",
      "Suggestions =  ['pears', 'lead', 'ear', 'fear', 'heir', 'ears', 'seat', 'meat', 'fears', 'wear', 'lay', 'beard', 'learn', 'dar', 'tear', 'heat', 'clears', 'star', 'earl', 'err', 'years', 'let', 'real', 'plead', 'leaner', 'heart', 'lent', 'her', 'year', 'clear', 'pear', 'left', 'dear', 'leg', 'dead', 'deal', 'near', 'war', 'lest', 'leads', 'mean', 'scar', 'ceas', 'leave', 'leash', 'law', 'lean', 'beam', 'led', 'deer', 'lease', 'altar', 'sea', 'lap', 'head', 'bar', 'seal', 'hears', 'par', 'roar', 'read', 'rear', 'le', 'swear', 'heard', 'seas', 'bears', 'bear', 'legs', 'liar', 'far', 'leapt', 'er', 'wears', 'sear', 'bleak', 'afar', 'lend', 'plea', 'mar', 'weak', 'clean', 'glean', 'tears', 'less', 'hear', 'pearl', 'team', 'yea', 'lour', 'least', 'deaf', 'eat', 'beat', 'leap', 'lets', 'lark', 'reap', 'weary', 'pleas']\n",
      "word 0: her\n",
      "word 1: let\n",
      "word 2: heart\n",
      "word 3: hear\n"
     ]
    }
   ],
   "source": [
    "print('\\n')\n",
    "print('===== ONE EDIT DISTANCE =====')\n",
    "\n",
    "my_word = 'lea' \n",
    "tmp_corrections = get_corrections(my_word, probs, vocab, 2, verbose=True) \n",
    "for i, word_prob in enumerate(tmp_corrections):\n",
    "    print(f\"word {i}: {word_prob[0]}\")\n",
    "\n",
    "print('\\n')\n",
    "my_word = 'lear' \n",
    "tmp_corrections = get_corrections(my_word, probs, vocab, 2, verbose=True)\n",
    "for i, word_prob in enumerate(tmp_corrections):\n",
    "    print(f\"word {i}: {word_prob[0]}\")\n",
    "\n",
    "print('\\n', '===== TWO EDIT DISTANCE =====')\n",
    "my_word = 'lear' \n",
    "tmp_corrections = get_corrections_2edit(my_word, probs, vocab, 4, verbose=True) \n",
    "for i, word_prob in enumerate(tmp_corrections):\n",
    "    print(f\"word {i}: {word_prob[0]}\")\n"
   ]
  },
  {
   "cell_type": "code",
   "execution_count": 25,
   "metadata": {},
   "outputs": [
    {
     "data": {
      "application/vnd.jupyter.widget-view+json": {
       "model_id": "17de9ec3cb5b452bb535b47a5a6cf4ab",
       "version_major": 2,
       "version_minor": 0
      },
      "text/plain": [
       "Text(value='', description='Word:', placeholder='Enter a word')"
      ]
     },
     "metadata": {},
     "output_type": "display_data"
    },
    {
     "data": {
      "application/vnd.jupyter.widget-view+json": {
       "model_id": "9e19c4fef3484e6ca9689c2acaf129fe",
       "version_major": 2,
       "version_minor": 0
      },
      "text/plain": [
       "Dropdown(description='Edit Distance:', options=('1 edit', '2 edit'), value='1 edit')"
      ]
     },
     "metadata": {},
     "output_type": "display_data"
    },
    {
     "data": {
      "application/vnd.jupyter.widget-view+json": {
       "model_id": "652f6019c3774cb19ea824fe15024fd9",
       "version_major": 2,
       "version_minor": 0
      },
      "text/plain": [
       "Button(description='Autocorrect', style=ButtonStyle())"
      ]
     },
     "metadata": {},
     "output_type": "display_data"
    }
   ],
   "source": [
    "from ipywidgets import widgets\n",
    "\n",
    "def get_corrections_interactive(btn):\n",
    "    suggestions = []\n",
    "    if edit_dropdown.value == \"1 edit\":\n",
    "        suggestions = get_corrections(word_input.value, probs, vocab, n=4)\n",
    "    elif edit_dropdown.value == \"2 edit\":\n",
    "        suggestions = get_corrections_2edit(word_input.value, probs, vocab, n=4)\n",
    "    else:\n",
    "        print(\"Invalid choice of edit distance.\")\n",
    "\n",
    "    print(f\"Top 4 suggestions based on {edit_dropdown.value}: {[word_prob[0] for word_prob in suggestions[:4]]}\")\n",
    "\n",
    "# Dropdown widget for edit distance\n",
    "edit_dropdown = widgets.Dropdown(\n",
    "    options=[\"1 edit\", \"2 edit\"],\n",
    "    description='Edit Distance:',\n",
    "    disabled=False\n",
    ")\n",
    "\n",
    "# Text input widget for word\n",
    "word_input = widgets.Text(\n",
    "    placeholder='Enter a word',\n",
    "    description='Word:',\n",
    "    disabled=False\n",
    ")\n",
    "\n",
    "# Button widget for autocorrect\n",
    "autocorrect_button = widgets.Button(description=\"Autocorrect\")\n",
    "autocorrect_button.on_click(get_corrections_interactive)\n",
    "\n",
    "display(word_input)\n",
    "display(edit_dropdown)\n",
    "display(autocorrect_button)\n",
    "\n"
   ]
  },
  {
   "cell_type": "markdown",
   "metadata": {},
   "source": []
  },
  {
   "cell_type": "markdown",
   "metadata": {},
   "source": [
    "## Minimum Edit Distance\n",
    "\n",
    "To evaluate the similarity between two strings. Shortest path to go from a word to another word."
   ]
  },
  {
   "cell_type": "code",
   "execution_count": 59,
   "metadata": {},
   "outputs": [],
   "source": [
    "def min_edit_distance(source, target, ins_cost = 1, del_cost = 1, rep_cost = 2):\n",
    "    '''\n",
    "    Input: \n",
    "        source: a string corresponding to the string you are starting with\n",
    "        target: a string corresponding to the string you want to end with\n",
    "        ins_cost: an integer setting the insert cost\n",
    "        del_cost: an integer setting the delete cost\n",
    "        rep_cost: an integer setting the replace cost\n",
    "    '''\n",
    "    m = len(source) \n",
    "    n = len(target) \n",
    "    #initialize cost matrix with zeros and dimensions (m+1,n+1) \n",
    "    D = np.zeros((m+1, n+1), dtype=int) \n",
    "    \n",
    "    # D[0, 0] is 0\n",
    "    # Fill in column 0, from row 1 to row m\n",
    "    for row in range(1,m+1): \n",
    "        D[row,0] = D[row-1,0] + del_cost\n",
    "        \n",
    "    # Fill in row 0, for all columns from 1 to n\n",
    "    for col in range(1,n+1): \n",
    "        D[0,col] = D[0,col-1] + ins_cost\n",
    "        \n",
    "    for row in range(1,m+1): \n",
    "        for col in range(1,n+1):\n",
    "            \n",
    "            r_cost = rep_cost\n",
    "            \n",
    "            # Check to see if source character at the previous row matches the target character at the previous column, \n",
    "            if source[row-1] == target[col-1]:\n",
    "                # Update the replacement cost to 0 if source and target are the same\n",
    "                r_cost = 0\n",
    "                \n",
    "            # Update the cost at row, col based on previous entries in the cost matrix\n",
    "            # Refer to the equation calculate for D[i,j] (the minimum of three calculated costs)\n",
    "            D[row,col] = min([D[row-1,col]+del_cost, D[row,col-1]+ins_cost, D[row-1,col-1]+r_cost])\n",
    "          \n",
    "    # Set the minimum edit distance with the cost found at row m, column n\n",
    "    med = D[m,n]\n",
    "\n",
    "    return D, med"
   ]
  },
  {
   "cell_type": "code",
   "execution_count": 60,
   "metadata": {},
   "outputs": [
    {
     "name": "stdout",
     "output_type": "stream",
     "text": [
      "minimum edits:  4 \n",
      "\n",
      "   #  s  t  a  y\n",
      "#  0  1  2  3  4\n",
      "p  1  2  3  4  5\n",
      "l  2  3  4  5  6\n",
      "a  3  4  5  4  5\n",
      "y  4  5  6  5  4\n"
     ]
    }
   ],
   "source": [
    "\n",
    "source =  'play'\n",
    "target = 'stay'\n",
    "matrix, min_edits = min_edit_distance(source, target)\n",
    "print(\"minimum edits: \",min_edits, \"\\n\")\n",
    "idx = list('#' + source)\n",
    "cols = list('#' + target)\n",
    "df = pd.DataFrame(matrix, index=idx, columns= cols)\n",
    "print(df)"
   ]
  },
  {
   "cell_type": "code",
   "execution_count": 61,
   "metadata": {},
   "outputs": [],
   "source": [
    "source = \"eer\"\n",
    "targets = edit_one_letter(source,allow_switches = False)  #disable switches since min_edit_distance does not include them\n",
    "for t in targets:\n",
    "    _, min_edits = min_edit_distance(source, t,1,1,1)  # set ins, del, sub costs all to one\n",
    "    if min_edits != 1: print(source, t, min_edits)"
   ]
  },
  {
   "cell_type": "code",
   "execution_count": 64,
   "metadata": {},
   "outputs": [
    {
     "name": "stdout",
     "output_type": "stream",
     "text": [
      "eer eer 0\n"
     ]
    }
   ],
   "source": [
    "source = \"eer\"\n",
    "targets = edit_two_letters(source,allow_switches = False) #disable switches since min_edit_distance does not include them\n",
    "for t in targets:\n",
    "    _, min_edits = min_edit_distance(source, t,1,1,1)  # set ins, del, sub costs all to one\n",
    "    if min_edits != 2 and min_edits != 1: print(source, t, min_edits)"
   ]
  },
  {
   "cell_type": "code",
   "execution_count": null,
   "metadata": {},
   "outputs": [],
   "source": []
  }
 ],
 "metadata": {
  "kernelspec": {
   "display_name": "Python 3 (ipykernel)",
   "language": "python",
   "name": "python3"
  },
  "language_info": {
   "codemirror_mode": {
    "name": "ipython",
    "version": 3
   },
   "file_extension": ".py",
   "mimetype": "text/x-python",
   "name": "python",
   "nbconvert_exporter": "python",
   "pygments_lexer": "ipython3",
   "version": "3.11.5"
  }
 },
 "nbformat": 4,
 "nbformat_minor": 4
}
