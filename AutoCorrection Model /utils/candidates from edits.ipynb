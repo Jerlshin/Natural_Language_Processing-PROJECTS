{
 "cells": [
  {
   "cell_type": "markdown",
   "metadata": {},
   "source": [
    "## Candidates from String edits"
   ]
  },
  {
   "cell_type": "code",
   "execution_count": 2,
   "metadata": {},
   "outputs": [
    {
     "data": {
      "text/plain": [
       "[['', 'dearz'],\n",
       " ['d', 'earz'],\n",
       " ['de', 'arz'],\n",
       " ['dea', 'rz'],\n",
       " ['dear', 'z'],\n",
       " ['dearz', '']]"
      ]
     },
     "execution_count": 2,
     "metadata": {},
     "output_type": "execute_result"
    }
   ],
   "source": [
    "word = 'dearz'\n",
    "\n",
    "## Splits - all ways we can split a word into 2 parts\n",
    "splits_a = []\n",
    "\n",
    "for i in range(len(word) + 1):\n",
    "    splits_a.append([word[:i], word[i:]])\n",
    "\n",
    "splits_a"
   ]
  },
  {
   "cell_type": "code",
   "execution_count": 5,
   "metadata": {},
   "outputs": [
    {
     "data": {
      "text/plain": [
       "[('', 'dearz'),\n",
       " ('d', 'earz'),\n",
       " ('de', 'arz'),\n",
       " ('dea', 'rz'),\n",
       " ('dear', 'z'),\n",
       " ('dearz', '')]"
      ]
     },
     "execution_count": 5,
     "metadata": {},
     "output_type": "execute_result"
    }
   ],
   "source": [
    "# splits using list comprehension\n",
    "\n",
    "splits_b = [(word[:i], word[i:]) for i in range(len(word) + 1)]\n",
    "\n",
    "splits_b"
   ]
  },
  {
   "cell_type": "code",
   "execution_count": 14,
   "metadata": {},
   "outputs": [
    {
     "name": "stdout",
     "output_type": "stream",
     "text": [
      "dearz\n",
      "earz ( d )\n",
      "darz ( e )\n",
      "derz ( a )\n",
      "deaz ( r )\n",
      "dear ( z )\n"
     ]
    }
   ],
   "source": [
    "## Detele a letter from each string in the list\n",
    "\n",
    "splits = splits_a\n",
    "\n",
    "deletes = []\n",
    "\n",
    "print(word)\n",
    "\n",
    "for L, R in splits:\n",
    "    if R:\n",
    "        print(L + R[1:], '(', R[0], ')')"
   ]
  },
  {
   "cell_type": "code",
   "execution_count": 16,
   "metadata": {},
   "outputs": [
    {
     "name": "stdout",
     "output_type": "stream",
     "text": [
      "['earz', 'darz', 'derz', 'deaz', 'dear']\n",
      "*** which is the same as ***\n",
      "earz\n",
      "darz\n",
      "derz\n",
      "deaz\n",
      "dear\n"
     ]
    }
   ],
   "source": [
    "# deletes with a list comprehension\n",
    "splits = splits_a\n",
    "deletes = [L + R[1:] for L, R in splits if R]\n",
    "\n",
    "print(deletes)\n",
    "print('*** which is the same as ***')\n",
    "for i in deletes:\n",
    "    print(i)"
   ]
  },
  {
   "cell_type": "code",
   "execution_count": null,
   "metadata": {},
   "outputs": [],
   "source": []
  }
 ],
 "metadata": {
  "kernelspec": {
   "display_name": "env_ai",
   "language": "python",
   "name": "python3"
  },
  "language_info": {
   "codemirror_mode": {
    "name": "ipython",
    "version": 3
   },
   "file_extension": ".py",
   "mimetype": "text/x-python",
   "name": "python",
   "nbconvert_exporter": "python",
   "pygments_lexer": "ipython3",
   "version": "3.10.12"
  },
  "orig_nbformat": 4
 },
 "nbformat": 4,
 "nbformat_minor": 2
}
